{
 "cells": [
  {
   "cell_type": "markdown",
   "metadata": {},
   "source": [
    "# Table 1\n",
    "\n",
    "This shows the results that we reported in Table 1.\n",
    "\n",
    "Note that for most results, we just load the corresponding file from previopus evaluation. To see the _raw results_, one con finde the corresponding csv file in `~/ml2-storage/ltl-syn`\n"
   ]
  },
  {
   "cell_type": "code",
   "execution_count": null,
   "metadata": {},
   "outputs": [],
   "source": [
    "from neurosynt import NeuroSyntEvalDataset\n",
    "from ml2.dtypes import CSVDict\n",
    "from ml2.ltl.ltl_syn import LTLSynEvalDataset\n",
    "from ml2.globals import LOCAL_STORAGE_DIR\n",
    "import json"
   ]
  },
  {
   "cell_type": "markdown",
   "metadata": {},
   "source": [
    "## Performance on Syntcomp\n"
   ]
  },
  {
   "cell_type": "markdown",
   "metadata": {},
   "source": [
    "load syntcomp evaluation\n"
   ]
  },
  {
   "cell_type": "code",
   "execution_count": null,
   "metadata": {},
   "outputs": [],
   "source": [
    "benchmark_g: NeuroSyntEvalDataset = NeuroSyntEvalDataset.load(\"ltl-syn/neurosynt-benchmarking-8\")  # type: ignore\n",
    "benchmark_g.df[\"result_tool\"] = benchmark_g.df.apply(lambda row: row[\"result_tool\"] + \"-G\", axis=1)"
   ]
  },
  {
   "cell_type": "markdown",
   "metadata": {},
   "source": [
    "denoteted as `syntcomp-full` in the paper\n"
   ]
  },
  {
   "cell_type": "code",
   "execution_count": null,
   "metadata": {
    "notebookRunGroups": {
     "groupValue": ""
    }
   },
   "outputs": [],
   "source": [
    "len(benchmark_g.solved_by([\"NeuroSynt-G\"])) / len(\n",
    "    benchmark_g.df[benchmark_g.df[\"result_tool\"] == \"NeuroSynt-G\"]\n",
    ")"
   ]
  },
  {
   "cell_type": "markdown",
   "metadata": {},
   "source": [
    "denoteted as `syntcomp-large` in the paper\n"
   ]
  },
  {
   "cell_type": "code",
   "execution_count": null,
   "metadata": {},
   "outputs": [],
   "source": [
    "sc_small = NeuroSyntEvalDataset(\n",
    "    df=benchmark_g.df[\n",
    "        (benchmark_g.df[\"input_max_prop_length\"] <= 30)\n",
    "        & (benchmark_g.df[\"input_num_properties\"] <= 12)\n",
    "    ],\n",
    "    add_stats=False,\n",
    "    dtype=CSVDict,\n",
    "    name=\"ht50seval\",\n",
    ")\n",
    "len(sc_small.solved_by([\"NeuroSynt-G\"])) / len(\n",
    "    sc_small.df[sc_small.df[\"result_tool\"] == \"NeuroSynt-G\"]\n",
    ")"
   ]
  },
  {
   "cell_type": "markdown",
   "metadata": {},
   "source": [
    "duration of neural solver (including model checking) on CPU cluster\n"
   ]
  },
  {
   "cell_type": "markdown",
   "metadata": {},
   "source": [
    "denoteted as `syntcomp-small` in the paper\n"
   ]
  },
  {
   "cell_type": "code",
   "execution_count": null,
   "metadata": {},
   "outputs": [],
   "source": [
    "sc_train = NeuroSyntEvalDataset(\n",
    "    df=benchmark_g.df[\n",
    "        (benchmark_g.df[\"input_max_prop_length\"] <= 70)\n",
    "        & (benchmark_g.df[\"input_num_properties\"] <= 30)\n",
    "    ],\n",
    "    add_stats=False,\n",
    "    dtype=CSVDict,\n",
    "    name=\"ht50seval\",\n",
    ")\n",
    "len(sc_train.solved_by([\"NeuroSynt-G\"])) / len(\n",
    "    sc_train.df[sc_train.df[\"result_tool\"] == \"NeuroSynt-G\"]\n",
    ")"
   ]
  },
  {
   "cell_type": "markdown",
   "metadata": {},
   "source": [
    "reimplementation of Schmitt et al.\n",
    "\n",
    "corresponding to the number we report in the end of Section 4.2\n"
   ]
  },
  {
   "cell_type": "code",
   "execution_count": null,
   "metadata": {},
   "outputs": [],
   "source": [
    "# LOCAL_STORAGE_DIR is typically ~/ml2-storage\n",
    "# CSV file can be found under LOCAL_STORAGE_DIR/ltl-syn/ht-40-eval-1/eval/0/0/csv_logger/data.csv\n",
    "with open(LOCAL_STORAGE_DIR + \"/ltl-syn/ht-40-eval-1/eval/0/0/metrics.json\") as json_data:\n",
    "    data = json.load(json_data)\n",
    "data"
   ]
  },
  {
   "cell_type": "markdown",
   "metadata": {},
   "source": [
    "## Performance on test\n"
   ]
  },
  {
   "cell_type": "code",
   "execution_count": null,
   "metadata": {},
   "outputs": [],
   "source": [
    "# LOCAL_STORAGE_DIR is typically ~/ml2-storage\n",
    "# CSV file can be found under LOCAL_STORAGE_DIR/ltl-syn/ht-50-eval-16/eval/0/0/csv_logger/data.csv\n",
    "with open(LOCAL_STORAGE_DIR + \"/ltl-syn/ht-50-eval-16/eval/0/0/metrics.json\") as json_data:\n",
    "    data = json.load(json_data)\n",
    "data"
   ]
  },
  {
   "cell_type": "markdown",
   "metadata": {},
   "source": [
    "## Performance on large\n"
   ]
  },
  {
   "cell_type": "code",
   "execution_count": null,
   "metadata": {},
   "outputs": [],
   "source": [
    "# LOCAL_STORAGE_DIR is typically ~/ml2-storage\n",
    "# CSV file can be found under LOCAL_STORAGE_DIR/ltl-syn/ht-50-eval-2/eval/0/1/csv_logger/data.csv\n",
    "with open(LOCAL_STORAGE_DIR + \"/ltl-syn/ht-50-eval-2/eval/0/1/metrics.json\") as json_data:\n",
    "    data = json.load(json_data)\n",
    "data"
   ]
  },
  {
   "cell_type": "markdown",
   "metadata": {},
   "source": [
    "## Performance on timeouts\n"
   ]
  },
  {
   "cell_type": "code",
   "execution_count": null,
   "metadata": {},
   "outputs": [],
   "source": [
    "# LOCAL_STORAGE_DIR is typically ~/ml2-storage\n",
    "# CSV file can be found under LOCAL_STORAGE_DIR/ltl-syn/ht-50-eval-1/eval/0/1/csv_logger/data.csv\n",
    "with open(LOCAL_STORAGE_DIR + \"/ltl-syn/ht-50-eval-1/eval/0/1/metrics.json\") as json_data:\n",
    "    data = json.load(json_data)\n",
    "data"
   ]
  },
  {
   "cell_type": "code",
   "execution_count": null,
   "metadata": {},
   "outputs": [],
   "source": []
  }
 ],
 "metadata": {
  "kernelspec": {
   "display_name": "Python 3 (ipykernel)",
   "language": "python",
   "name": "python3"
  },
  "language_info": {
   "codemirror_mode": {
    "name": "ipython",
    "version": 3
   },
   "file_extension": ".py",
   "mimetype": "text/x-python",
   "name": "python",
   "nbconvert_exporter": "python",
   "pygments_lexer": "ipython3",
   "version": "3.8.15"
  }
 },
 "nbformat": 4,
 "nbformat_minor": 4
}
