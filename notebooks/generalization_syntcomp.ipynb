{
 "cells": [
  {
   "cell_type": "markdown",
   "metadata": {},
   "source": [
    "# Fig 15\n",
    "\n",
    "This notebook creates Fig 15, showing the generalization to larger samples on syntcomp.\n",
    "\n",
    "We first load the evaluations of the SYNTCOMP `ht-50-eval-0`.\n",
    "\n",
    "Then we create the plots, with the literals (a), b), c), d)) showing whether it is the first or second subplot of the Figure.\n"
   ]
  },
  {
   "cell_type": "code",
   "execution_count": null,
   "metadata": {},
   "outputs": [],
   "source": [
    "from ml2.ltl.ltl_syn import LTLSynEvalDataset\n",
    "\n",
    "ds = LTLSynEvalDataset.load(\"ltl-syn/ht-50-eval-0/eval/0/1/csv_logger\")"
   ]
  },
  {
   "cell_type": "code",
   "execution_count": null,
   "metadata": {},
   "outputs": [],
   "source": [
    "from typing import Optional, Tuple\n",
    "import plotly.express as px\n",
    "import pandas as pd\n",
    "from typing import List\n",
    "import plotly.graph_objects as go\n",
    "\n",
    "\n",
    "def group_by(df, group_fn, column):\n",
    "    d = {\n",
    "        k: group_fn(group)\n",
    "        for k, group in [(k, df.loc[v]) for k, v in df.groupby(by=column).groups.items()]\n",
    "    }\n",
    "    return pd.DataFrame.from_dict(d, orient=\"index\").dropna()\n",
    "\n",
    "\n",
    "def min_max_scaling(series):\n",
    "    return (series - series.min()) / (series.max() - series.min())\n",
    "\n",
    "\n",
    "def plot_hist(\n",
    "    df: pd.DataFrame,\n",
    "    group_fn,\n",
    "    column: str,\n",
    "    y_axis_name: str = \"\",\n",
    "    x_axis_name: str = \"\",\n",
    "    fraction_show=0.95,\n",
    "    percentage: bool = True,\n",
    "    box_features: List[Tuple[str, str]] = [(\"satisfied\", \"lightgreen\"), (\"violated\", \"red\")],\n",
    "    generalization_bound: Optional[int] = None,\n",
    "):\n",
    "    dataframe = group_by(df, group_fn, column).reset_index()\n",
    "    dataframe = (\n",
    "        dataframe[: -int(len(dataframe) * (1 - fraction_show))]\n",
    "        if fraction_show != 1\n",
    "        else dataframe\n",
    "    )\n",
    "\n",
    "    counter = 0\n",
    "    box_features_df = {}\n",
    "    for box, colour in box_features:\n",
    "        box_features_df[box] = (dataframe[counter], colour)\n",
    "        counter += 1\n",
    "\n",
    "    data = []\n",
    "\n",
    "    for k, box in box_features_df.items():\n",
    "        data.append(\n",
    "            go.Bar(\n",
    "                name=k,\n",
    "                x=dataframe[\"index\"],\n",
    "                y=box[0],\n",
    "                marker_color=box[1],\n",
    "            )\n",
    "        )\n",
    "\n",
    "    r = int(dataframe[\"index\"].max().round(0)) - int(dataframe[\"index\"].min())\n",
    "    ticks_x = 1 if r < 25 else (2 if r < 50 else 5)\n",
    "\n",
    "    fig = go.Figure()\n",
    "    fig.update_layout(template=\"plotly_white\")\n",
    "    if generalization_bound is not None:\n",
    "        fig.add_vrect(\n",
    "            x0=generalization_bound + 0.5,\n",
    "            x1=dataframe[\"index\"].max().round(0) + 0.5,\n",
    "            fillcolor=\"#c9c9c9\",\n",
    "            line_width=0,\n",
    "            layer=\"below\",\n",
    "        )\n",
    "        fig.add_vline(generalization_bound + 0.5, line_color=\"black\")\n",
    "    for d in data:\n",
    "        fig.add_trace(d)\n",
    "    fig.update_yaxes(title_text=y_axis_name, gridcolor=\"#e8e8e8\")\n",
    "    if percentage:\n",
    "        fig.update_yaxes(\n",
    "            tickmode=\"array\",\n",
    "            tickvals=[x / 10 for x in range(0, 11)],\n",
    "            ticktext=[(str(x * 10) + \"%\") if x % 2 == 0 else \"\" for x in range(0, 11)],\n",
    "            range=[0, 1.05],\n",
    "        )\n",
    "    fig.update_xaxes(title_text=x_axis_name, dtick=ticks_x, tick0=0)\n",
    "    fig.update_layout(\n",
    "        font=dict(color=\"black\"),\n",
    "        barmode=\"stack\",\n",
    "        # showlegend=True,\n",
    "        legend=dict(orientation=\"h\", yanchor=\"bottom\", y=0.05, xanchor=\"left\", x=0.01),\n",
    "        colorscale={\"sequential\": px.colors.qualitative.G10},\n",
    "        height=300,\n",
    "        width=900,\n",
    "        margin=dict(l=0, r=10, t=10, b=0),\n",
    "        bargap=0.1,\n",
    "    )\n",
    "    fig.show()\n",
    "    return fig"
   ]
  },
  {
   "cell_type": "code",
   "execution_count": null,
   "metadata": {},
   "outputs": [],
   "source": [
    "def valid_group(group):\n",
    "    counts = group[\"prediction_valid\"].value_counts()\n",
    "    if True in counts.index:\n",
    "        acc = group[\"prediction_valid\"].value_counts()[True] / len(group)\n",
    "        return acc, 1 - acc\n",
    "    else:\n",
    "        return 0, 1\n",
    "\n",
    "\n",
    "def valid_group_acc(group):\n",
    "    counts = group[\"prediction_valid\"].value_counts()\n",
    "    if True in counts.index:\n",
    "        acc = group[\"prediction_valid\"].value_counts()[True] / len(group)\n",
    "        return acc, acc, 1 - acc\n",
    "    else:\n",
    "        return 0, 0, 1"
   ]
  },
  {
   "cell_type": "markdown",
   "metadata": {},
   "source": [
    "## Fig 15 a)\n"
   ]
  },
  {
   "cell_type": "code",
   "execution_count": null,
   "metadata": {},
   "outputs": [],
   "source": [
    "fig = plot_hist(\n",
    "    ds.group_agg_smallest(inplace=False).df,\n",
    "    valid_group,\n",
    "    \"input_num_properties\",\n",
    "    fraction_show=0.5,\n",
    "    box_features=[(\"satisfied\", \"#008040\")],\n",
    "    y_axis_name=\"correct\",\n",
    "    generalization_bound=12,\n",
    "    x_axis_name=\"number of properties\",\n",
    ")"
   ]
  },
  {
   "cell_type": "markdown",
   "metadata": {},
   "source": [
    "## Fig 15 c)\n"
   ]
  },
  {
   "cell_type": "code",
   "execution_count": null,
   "metadata": {},
   "outputs": [],
   "source": [
    "fig = plot_hist(\n",
    "    ds.group_agg_smallest(inplace=False).df,\n",
    "    len,\n",
    "    \"input_num_properties\",\n",
    "    percentage=False,\n",
    "    fraction_show=0.5,\n",
    "    box_features=[(\"count\", \"black\")],\n",
    "    y_axis_name=\"count\",\n",
    "    x_axis_name=\"number of properties\",\n",
    ")"
   ]
  },
  {
   "cell_type": "markdown",
   "metadata": {},
   "source": [
    "## Fig 15 b)\n"
   ]
  },
  {
   "cell_type": "code",
   "execution_count": null,
   "metadata": {},
   "outputs": [],
   "source": [
    "fig = plot_hist(\n",
    "    ds.group_agg_smallest(inplace=False).df,\n",
    "    valid_group,\n",
    "    \"input_max_prop_length\",\n",
    "    fraction_show=0.3,\n",
    "    box_features=[(\"satisfied\", \"#008040\")],\n",
    "    y_axis_name=\"correct\",\n",
    "    generalization_bound=30,\n",
    "    x_axis_name=\"property length\",\n",
    ")"
   ]
  },
  {
   "cell_type": "markdown",
   "metadata": {},
   "source": [
    "## Fig 15 d)\n"
   ]
  },
  {
   "cell_type": "code",
   "execution_count": null,
   "metadata": {},
   "outputs": [],
   "source": [
    "fig = plot_hist(\n",
    "    ds.group_agg_smallest(inplace=False).df,\n",
    "    len,\n",
    "    \"input_max_prop_length\",\n",
    "    percentage=False,\n",
    "    fraction_show=0.3,\n",
    "    box_features=[(\"count\", \"black\")],\n",
    "    y_axis_name=\"count\",\n",
    "    x_axis_name=\"property length\",\n",
    ")"
   ]
  },
  {
   "cell_type": "code",
   "execution_count": null,
   "metadata": {},
   "outputs": [],
   "source": []
  }
 ],
 "metadata": {
  "kernelspec": {
   "display_name": "ml2",
   "language": "python",
   "name": "python3"
  },
  "language_info": {
   "codemirror_mode": {
    "name": "ipython",
    "version": 3
   },
   "file_extension": ".py",
   "mimetype": "text/x-python",
   "name": "python",
   "nbconvert_exporter": "python",
   "pygments_lexer": "ipython3",
   "version": "3.8.15"
  },
  "orig_nbformat": 4
 },
 "nbformat": 4,
 "nbformat_minor": 2
}
