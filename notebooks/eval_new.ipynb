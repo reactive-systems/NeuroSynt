{
 "cells": [
  {
   "cell_type": "markdown",
   "metadata": {},
   "source": [
    "# New evaluations\n",
    "\n",
    "This notebook is for loading and analyzing new evaluations.\n",
    "\n",
    "You have to run `python -m neurosynt.main synthesize --spec simple_arbiter2.json --config config_small.yaml --all-results ` before executing this notebook.\n",
    "\n",
    "See `README.md` for more information.\n"
   ]
  },
  {
   "cell_type": "code",
   "execution_count": null,
   "metadata": {},
   "outputs": [],
   "source": [
    "from neurosynt import NeuroSyntEvalDataset\n",
    "import numpy as np\n",
    "import pandas as pd"
   ]
  },
  {
   "cell_type": "code",
   "execution_count": null,
   "metadata": {},
   "outputs": [],
   "source": [
    "benchmark: NeuroSyntEvalDataset = NeuroSyntEvalDataset.load(\"ltl-syn/neurosynt-bm-small\")  # type: ignore\n",
    "benchmark.df[\"result_model_checking_duration\"] = benchmark.df[\n",
    "    \"result_model_checking_duration\"\n",
    "].apply(lambda x: np.nan if pd.isnull(x) or x == \"\" else float(x))"
   ]
  },
  {
   "cell_type": "markdown",
   "metadata": {},
   "source": [
    "Total solves\n"
   ]
  },
  {
   "cell_type": "code",
   "execution_count": null,
   "metadata": {},
   "outputs": [],
   "source": [
    "for tool in list(benchmark.df[\"result_tool\"].value_counts().index):\n",
    "    solved = len(benchmark.solved_by([tool]))\n",
    "    print(tool)\n",
    "    print(solved)"
   ]
  },
  {
   "cell_type": "markdown",
   "metadata": {},
   "source": [
    "Times\n"
   ]
  },
  {
   "cell_type": "code",
   "execution_count": null,
   "metadata": {},
   "outputs": [],
   "source": [
    "print(benchmark.solved_by([\"NeuroSynt\"])[\"result_duration_par\"].mean())\n",
    "print(benchmark.solved_by([\"NeuroSynt\"])[\"result_duration_par\"].std())"
   ]
  },
  {
   "cell_type": "code",
   "execution_count": null,
   "metadata": {},
   "outputs": [],
   "source": [
    "print(benchmark.solved_by([\"NeuroSynt\"])[\"result_model_checking_duration\"].mean())\n",
    "print(benchmark.solved_by([\"NeuroSynt\"])[\"result_model_checking_duration\"].std())"
   ]
  },
  {
   "cell_type": "code",
   "execution_count": null,
   "metadata": {},
   "outputs": [],
   "source": [
    "print(benchmark.solved_by([\"Strix\"])[\"result_duration_par\"].mean())\n",
    "print(benchmark.solved_by([\"Strix\"])[\"result_duration_par\"].std())"
   ]
  },
  {
   "cell_type": "markdown",
   "metadata": {},
   "source": [
    "Circuit Sizes\n"
   ]
  },
  {
   "cell_type": "code",
   "execution_count": null,
   "metadata": {},
   "outputs": [],
   "source": [
    "# if neural solvers results are smaller\n",
    "r = benchmark.compare_smaller(by_tool=\"NeuroSynt\", out_of_tools=[\"NeuroSynt\", \"Strix\"])\n",
    "print(\"On samples that Strix and the neural solver solved\")\n",
    "print(\"average Strix:\", r[\"out_of_tools but not by_tools average\"])\n",
    "print(\"average  neural solver:\", r[\"by_tool average\"])\n",
    "print(\n",
    "    \"neural solver smaller by\",\n",
    "    r[\"% smaller or larger than out_of_tools but not by_tools average\"],\n",
    "    \"%\",\n",
    ")"
   ]
  },
  {
   "cell_type": "code",
   "execution_count": null,
   "metadata": {},
   "outputs": [],
   "source": [
    "# if strix results are smaller\n",
    "r = benchmark.compare_smaller(by_tool=\"Strix\", out_of_tools=[\"NeuroSynt\", \"Strix\"])\n",
    "print(\"On samples that Strix and the neural solver solved\")\n",
    "print(\"average neural solver:\", r[\"out_of_tools but not by_tools average\"])\n",
    "print(\"average  strix:\", r[\"by_tool average\"])\n",
    "print(\"strix smaller by\", r[\"% smaller or larger than out_of_tools but not by_tools average\"], \"%\")"
   ]
  },
  {
   "cell_type": "code",
   "execution_count": null,
   "metadata": {},
   "outputs": [],
   "source": []
  }
 ],
 "metadata": {
  "kernelspec": {
   "display_name": "ml2",
   "language": "python",
   "name": "python3"
  },
  "language_info": {
   "codemirror_mode": {
    "name": "ipython",
    "version": 3
   },
   "file_extension": ".py",
   "mimetype": "text/x-python",
   "name": "python",
   "nbconvert_exporter": "python",
   "pygments_lexer": "ipython3",
   "version": "3.8.15"
  },
  "orig_nbformat": 4
 },
 "nbformat": 4,
 "nbformat_minor": 2
}
